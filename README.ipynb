{
 "cells": [
  {
   "cell_type": "markdown",
   "metadata": {},
   "source": [
    "# UniProtClient\n",
    "Python classes in this package allow convenient access to [UniProt](https://www.uniprot.org/) for protein ID mapping and information retrieval."
   ]
  },
  {
   "cell_type": "markdown",
   "metadata": {},
   "source": [
    "## Installation in Conda\n",
    "If not already installed, install **pip** and **git**:  \n",
    "```\n",
    "conda install git\n",
    "conda install pip\n",
    "```\n",
    "Then install via pip:\n",
    "```\n",
    "pip install git+git://github.com/c-feldmann/UniProtClient\n",
    "```"
   ]
  },
  {
   "cell_type": "markdown",
   "metadata": {},
   "source": [
    "## Usage\n",
    "### Mapping\n",
    "Protein IDs differ from database to database. The class *UniProtMapper* can be utilized for mapping of protein IDs from one database to corresponding IDs of another database, specified by [letter codes](https://www.uniprot.org/help/api_idmapping).  "
   ]
  },
  {
   "cell_type": "code",
   "execution_count": 1,
   "metadata": {},
   "outputs": [],
   "source": [
    "from UniProtClient import UniProtMapper\n",
    "origin_database = 'P_GI'  # PubChem Gene ID\n",
    "target_database = 'ACC'  # UniProt Accession\n",
    "gi_2_acc_mappig = UniProtMapper(origin_database, target_database)"
   ]
  },
  {
   "cell_type": "markdown",
   "metadata": {},
   "source": [
    "The obtained object has a function called `map_protein_ids`, which takes a list of strings with protein IDs as input, returning a pandas DataFrame. The DataFrame has two columns: \"From\" and \"To\" referring to the origin and target ID, respectively."
   ]
  },
  {
   "cell_type": "code",
   "execution_count": 2,
   "metadata": {},
   "outputs": [
    {
     "data": {
      "application/vnd.jupyter.widget-view+json": {
       "model_id": "f655d433a8dc40238ef03926c425bb28",
       "version_major": 2,
       "version_minor": 0
      },
      "text/plain": [
       "  0%|          | 0/3 [00:00<?, ?it/s]"
      ]
     },
     "metadata": {},
     "output_type": "display_data"
    }
   ],
   "source": [
    "gi_numbers = ['224586929', '224586929', '4758208'] # IDs should be represented as a list of strings\n",
    "# a pandas DataFrame is returned containing the columns \"From\" and \"To\"\n",
    "mapping_df = gi_2_acc_mappig.map_protein_ids(gi_numbers)\n",
    "uniprot_accessions = mapping_df['To'].tolist()"
   ]
  },
  {
   "cell_type": "code",
   "execution_count": 3,
   "metadata": {},
   "outputs": [
    {
     "data": {
      "text/html": [
       "<div>\n",
       "<style scoped>\n",
       "    .dataframe tbody tr th:only-of-type {\n",
       "        vertical-align: middle;\n",
       "    }\n",
       "\n",
       "    .dataframe tbody tr th {\n",
       "        vertical-align: top;\n",
       "    }\n",
       "\n",
       "    .dataframe thead th {\n",
       "        text-align: right;\n",
       "    }\n",
       "</style>\n",
       "<table border=\"1\" class=\"dataframe\">\n",
       "  <thead>\n",
       "    <tr style=\"text-align: right;\">\n",
       "      <th></th>\n",
       "      <th>From</th>\n",
       "      <th>To</th>\n",
       "    </tr>\n",
       "  </thead>\n",
       "  <tbody>\n",
       "    <tr>\n",
       "      <th>0</th>\n",
       "      <td>224586929</td>\n",
       "      <td>Q9Y2R2</td>\n",
       "    </tr>\n",
       "    <tr>\n",
       "      <th>1</th>\n",
       "      <td>224586929</td>\n",
       "      <td>B4DZW8</td>\n",
       "    </tr>\n",
       "    <tr>\n",
       "      <th>2</th>\n",
       "      <td>4758208</td>\n",
       "      <td>P51452</td>\n",
       "    </tr>\n",
       "  </tbody>\n",
       "</table>\n",
       "</div>"
      ],
      "text/plain": [
       "        From      To\n",
       "0  224586929  Q9Y2R2\n",
       "1  224586929  B4DZW8\n",
       "2    4758208  P51452"
      ]
     },
     "execution_count": 3,
     "metadata": {},
     "output_type": "execute_result"
    }
   ],
   "source": [
    "mapping_df"
   ]
  },
  {
   "cell_type": "markdown",
   "metadata": {},
   "source": [
    "### Protein information\n",
    "UniProt provides a varity of protein specific information, such as protein family, organism, function, EC-number, and many more.\n",
    "The class *UniProtProteinInfo* is initialized with [column identifier](https://www.uniprot.org/help/uniprotkb%5Fcolumn%5Fnames) specifing the requested information. Spaces in column names should be substituted by underscores.  \n",
    "If no columns are specified the default is used:\n",
    "\n",
    "| Column-ID |\n",
    "|:------:|\n",
    "| id |\n",
    "| entry_name |\n",
    "| protein_names |\n",
    "| families |\n",
    "| organism |\n",
    "| ec |\n",
    "| genes(PREFERRED) |\n",
    "| go(molecular_function) |\n",
    "\n",
    "The column \"protein_names\" contains all protein names, where secondary names are given in brackets or parenthesis. If this column is requested, the primary name is extracted and added as a new column, called \"primary_name\"."
   ]
  },
  {
   "cell_type": "code",
   "execution_count": 4,
   "metadata": {},
   "outputs": [],
   "source": [
    "from UniProtClient import UniProtProteinInfo\n",
    "info = UniProtProteinInfo()"
   ]
  },
  {
   "cell_type": "code",
   "execution_count": 5,
   "metadata": {},
   "outputs": [
    {
     "data": {
      "application/vnd.jupyter.widget-view+json": {
       "model_id": "ea901b25ed4e4a28a3fa78aae0fa5c56",
       "version_major": 2,
       "version_minor": 0
      },
      "text/plain": [
       "  0%|          | 0/3 [00:00<?, ?it/s]"
      ]
     },
     "metadata": {},
     "output_type": "display_data"
    },
    {
     "data": {
      "text/html": [
       "<div>\n",
       "<style scoped>\n",
       "    .dataframe tbody tr th:only-of-type {\n",
       "        vertical-align: middle;\n",
       "    }\n",
       "\n",
       "    .dataframe tbody tr th {\n",
       "        vertical-align: top;\n",
       "    }\n",
       "\n",
       "    .dataframe thead th {\n",
       "        text-align: right;\n",
       "    }\n",
       "</style>\n",
       "<table border=\"1\" class=\"dataframe\">\n",
       "  <thead>\n",
       "    <tr style=\"text-align: right;\">\n",
       "      <th></th>\n",
       "      <th>entry_name</th>\n",
       "      <th>protein_names</th>\n",
       "      <th>protein_families</th>\n",
       "      <th>organism</th>\n",
       "      <th>ec_number</th>\n",
       "      <th>gene_names(primary)</th>\n",
       "      <th>gene_ontology(molecular_function)</th>\n",
       "      <th>primary_name</th>\n",
       "      <th>subfamily</th>\n",
       "      <th>family</th>\n",
       "      <th>superfamily</th>\n",
       "    </tr>\n",
       "    <tr>\n",
       "      <th>entry</th>\n",
       "      <th></th>\n",
       "      <th></th>\n",
       "      <th></th>\n",
       "      <th></th>\n",
       "      <th></th>\n",
       "      <th></th>\n",
       "      <th></th>\n",
       "      <th></th>\n",
       "      <th></th>\n",
       "      <th></th>\n",
       "      <th></th>\n",
       "    </tr>\n",
       "  </thead>\n",
       "  <tbody>\n",
       "    <tr>\n",
       "      <th>P51452</th>\n",
       "      <td>DUS3_HUMAN</td>\n",
       "      <td>Dual specificity protein phosphatase 3 (EC 3.1...</td>\n",
       "      <td>Protein-tyrosine phosphatase family, Non-recep...</td>\n",
       "      <td>Homo sapiens (Human)</td>\n",
       "      <td>3.1.3.16; 3.1.3.48</td>\n",
       "      <td>DUSP3</td>\n",
       "      <td>cytoskeletal protein binding [GO:0008092]; MAP...</td>\n",
       "      <td>Dual specificity protein phosphatase 3</td>\n",
       "      <td>Non-receptor class dual specificity subfamily</td>\n",
       "      <td>Protein-tyrosine phosphatase family</td>\n",
       "      <td>-</td>\n",
       "    </tr>\n",
       "    <tr>\n",
       "      <th>Q9Y2R2</th>\n",
       "      <td>PTN22_HUMAN</td>\n",
       "      <td>Tyrosine-protein phosphatase non-receptor type...</td>\n",
       "      <td>Protein-tyrosine phosphatase family, Non-recep...</td>\n",
       "      <td>Homo sapiens (Human)</td>\n",
       "      <td>3.1.3.48</td>\n",
       "      <td>PTPN22</td>\n",
       "      <td>kinase binding [GO:0019900]; non-membrane span...</td>\n",
       "      <td>Tyrosine-protein phosphatase non-receptor type 22</td>\n",
       "      <td>Non-receptor class 4 subfamily</td>\n",
       "      <td>Protein-tyrosine phosphatase family</td>\n",
       "      <td>-</td>\n",
       "    </tr>\n",
       "    <tr>\n",
       "      <th>B4DZW8</th>\n",
       "      <td>B4DZW8_HUMAN</td>\n",
       "      <td>cDNA FLJ55436, highly similar to Tyrosine-prot...</td>\n",
       "      <td></td>\n",
       "      <td>Homo sapiens (Human)</td>\n",
       "      <td></td>\n",
       "      <td></td>\n",
       "      <td>protein tyrosine phosphatase activity [GO:0004...</td>\n",
       "      <td>cDNA FLJ55436, highly similar to Tyrosine-prot...</td>\n",
       "      <td>-</td>\n",
       "      <td>-</td>\n",
       "      <td>-</td>\n",
       "    </tr>\n",
       "  </tbody>\n",
       "</table>\n",
       "</div>"
      ],
      "text/plain": [
       "          entry_name                                      protein_names  \\\n",
       "entry                                                                     \n",
       "P51452    DUS3_HUMAN  Dual specificity protein phosphatase 3 (EC 3.1...   \n",
       "Q9Y2R2   PTN22_HUMAN  Tyrosine-protein phosphatase non-receptor type...   \n",
       "B4DZW8  B4DZW8_HUMAN  cDNA FLJ55436, highly similar to Tyrosine-prot...   \n",
       "\n",
       "                                         protein_families  \\\n",
       "entry                                                       \n",
       "P51452  Protein-tyrosine phosphatase family, Non-recep...   \n",
       "Q9Y2R2  Protein-tyrosine phosphatase family, Non-recep...   \n",
       "B4DZW8                                                      \n",
       "\n",
       "                    organism           ec_number gene_names(primary)  \\\n",
       "entry                                                                  \n",
       "P51452  Homo sapiens (Human)  3.1.3.16; 3.1.3.48               DUSP3   \n",
       "Q9Y2R2  Homo sapiens (Human)            3.1.3.48              PTPN22   \n",
       "B4DZW8  Homo sapiens (Human)                                           \n",
       "\n",
       "                        gene_ontology(molecular_function)  \\\n",
       "entry                                                       \n",
       "P51452  cytoskeletal protein binding [GO:0008092]; MAP...   \n",
       "Q9Y2R2  kinase binding [GO:0019900]; non-membrane span...   \n",
       "B4DZW8  protein tyrosine phosphatase activity [GO:0004...   \n",
       "\n",
       "                                             primary_name  \\\n",
       "entry                                                       \n",
       "P51452             Dual specificity protein phosphatase 3   \n",
       "Q9Y2R2  Tyrosine-protein phosphatase non-receptor type 22   \n",
       "B4DZW8  cDNA FLJ55436, highly similar to Tyrosine-prot...   \n",
       "\n",
       "                                             subfamily  \\\n",
       "entry                                                    \n",
       "P51452   Non-receptor class dual specificity subfamily   \n",
       "Q9Y2R2                  Non-receptor class 4 subfamily   \n",
       "B4DZW8                                               -   \n",
       "\n",
       "                                     family superfamily  \n",
       "entry                                                    \n",
       "P51452  Protein-tyrosine phosphatase family           -  \n",
       "Q9Y2R2  Protein-tyrosine phosphatase family           -  \n",
       "B4DZW8                                    -           -  "
      ]
     },
     "execution_count": 5,
     "metadata": {},
     "output_type": "execute_result"
    }
   ],
   "source": [
    "info.load_protein_info([\"B4DZW8\", \"Q9Y2R2\", \"P51452\"])"
   ]
  },
  {
   "cell_type": "markdown",
   "metadata": {
    "pycharm": {
     "name": "#%% md\n"
    }
   },
   "source": [
    "#### Protein Families\n",
    "If downloaded, the string 'protein_families' is parsed automatically. It is split into the categories subfamily, family\n",
    "and superfamily.\n",
    "Some proteins belong to multiple families. The default behaviour is to extract the individual categories and merge them\n",
    "into a `; ` seperated string."
   ]
  },
  {
   "cell_type": "code",
   "execution_count": 6,
   "metadata": {},
   "outputs": [],
   "source": [
    "# Extending column with. Not important for extraction.\n",
    "import pandas as pd\n",
    "pd.set_option('max_colwidth', 400)"
   ]
  },
  {
   "cell_type": "code",
   "execution_count": 7,
   "metadata": {
    "collapsed": false,
    "jupyter": {
     "outputs_hidden": false
    },
    "pycharm": {
     "name": "#%%\n"
    }
   },
   "outputs": [
    {
     "data": {
      "application/vnd.jupyter.widget-view+json": {
       "model_id": "9b11c5530aa342e3a68b86a7e7130c75",
       "version_major": 2,
       "version_minor": 0
      },
      "text/plain": [
       "  0%|          | 0/1 [00:00<?, ?it/s]"
      ]
     },
     "metadata": {},
     "output_type": "display_data"
    },
    {
     "data": {
      "text/html": [
       "<div>\n",
       "<style scoped>\n",
       "    .dataframe tbody tr th:only-of-type {\n",
       "        vertical-align: middle;\n",
       "    }\n",
       "\n",
       "    .dataframe tbody tr th {\n",
       "        vertical-align: top;\n",
       "    }\n",
       "\n",
       "    .dataframe thead th {\n",
       "        text-align: right;\n",
       "    }\n",
       "</style>\n",
       "<table border=\"1\" class=\"dataframe\">\n",
       "  <thead>\n",
       "    <tr style=\"text-align: right;\">\n",
       "      <th></th>\n",
       "      <th>organism</th>\n",
       "      <th>subfamily</th>\n",
       "      <th>family</th>\n",
       "      <th>superfamily</th>\n",
       "    </tr>\n",
       "    <tr>\n",
       "      <th>entry</th>\n",
       "      <th></th>\n",
       "      <th></th>\n",
       "      <th></th>\n",
       "      <th></th>\n",
       "    </tr>\n",
       "  </thead>\n",
       "  <tbody>\n",
       "    <tr>\n",
       "      <th>Q923J1</th>\n",
       "      <td>Mus musculus (Mouse)</td>\n",
       "      <td>ALPK subfamily;  LTrpC subfamily</td>\n",
       "      <td>Alpha-type protein kinase family; Transient receptor (TC 1.A.4) family</td>\n",
       "      <td>Protein kinase superfamily; -</td>\n",
       "    </tr>\n",
       "  </tbody>\n",
       "</table>\n",
       "</div>"
      ],
      "text/plain": [
       "                    organism                          subfamily  \\\n",
       "entry                                                             \n",
       "Q923J1  Mus musculus (Mouse)   ALPK subfamily;  LTrpC subfamily   \n",
       "\n",
       "                                                                         family  \\\n",
       "entry                                                                             \n",
       "Q923J1   Alpha-type protein kinase family; Transient receptor (TC 1.A.4) family   \n",
       "\n",
       "                          superfamily  \n",
       "entry                                  \n",
       "Q923J1  Protein kinase superfamily; -  "
      ]
     },
     "execution_count": 7,
     "metadata": {},
     "output_type": "execute_result"
    }
   ],
   "source": [
    "info = UniProtProteinInfo(merge_multi_fam_strings=True)  # Default behaviour\n",
    "info.load_protein_info([\"Q923J1\"])[[\"organism\", \"subfamily\", \"family\", \"superfamily\"]]"
   ]
  },
  {
   "cell_type": "markdown",
   "metadata": {},
   "source": [
    " Setting `merge_multi_fam_strings` to `False` will create for each family association an\n",
    "individual row where remaining protein information are identical."
   ]
  },
  {
   "cell_type": "code",
   "execution_count": 8,
   "metadata": {
    "collapsed": false,
    "jupyter": {
     "outputs_hidden": false
    },
    "pycharm": {
     "name": "#%%\n"
    }
   },
   "outputs": [
    {
     "data": {
      "application/vnd.jupyter.widget-view+json": {
       "model_id": "f7b9c8c57b1e41b4892643a033032417",
       "version_major": 2,
       "version_minor": 0
      },
      "text/plain": [
       "  0%|          | 0/1 [00:00<?, ?it/s]"
      ]
     },
     "metadata": {},
     "output_type": "display_data"
    },
    {
     "data": {
      "text/html": [
       "<div>\n",
       "<style scoped>\n",
       "    .dataframe tbody tr th:only-of-type {\n",
       "        vertical-align: middle;\n",
       "    }\n",
       "\n",
       "    .dataframe tbody tr th {\n",
       "        vertical-align: top;\n",
       "    }\n",
       "\n",
       "    .dataframe thead th {\n",
       "        text-align: right;\n",
       "    }\n",
       "</style>\n",
       "<table border=\"1\" class=\"dataframe\">\n",
       "  <thead>\n",
       "    <tr style=\"text-align: right;\">\n",
       "      <th></th>\n",
       "      <th>organism</th>\n",
       "      <th>subfamily</th>\n",
       "      <th>family</th>\n",
       "      <th>superfamily</th>\n",
       "    </tr>\n",
       "    <tr>\n",
       "      <th>entry</th>\n",
       "      <th></th>\n",
       "      <th></th>\n",
       "      <th></th>\n",
       "      <th></th>\n",
       "    </tr>\n",
       "  </thead>\n",
       "  <tbody>\n",
       "    <tr>\n",
       "      <th>Q923J1</th>\n",
       "      <td>Mus musculus (Mouse)</td>\n",
       "      <td>ALPK subfamily</td>\n",
       "      <td>Alpha-type protein kinase family</td>\n",
       "      <td>Protein kinase superfamily</td>\n",
       "    </tr>\n",
       "    <tr>\n",
       "      <th>Q923J1</th>\n",
       "      <td>Mus musculus (Mouse)</td>\n",
       "      <td>LTrpC subfamily</td>\n",
       "      <td>Transient receptor (TC 1.A.4) family</td>\n",
       "      <td>None</td>\n",
       "    </tr>\n",
       "  </tbody>\n",
       "</table>\n",
       "</div>"
      ],
      "text/plain": [
       "                    organism         subfamily  \\\n",
       "entry                                            \n",
       "Q923J1  Mus musculus (Mouse)    ALPK subfamily   \n",
       "Q923J1  Mus musculus (Mouse)   LTrpC subfamily   \n",
       "\n",
       "                                      family                 superfamily  \n",
       "entry                                                                     \n",
       "Q923J1      Alpha-type protein kinase family  Protein kinase superfamily  \n",
       "Q923J1  Transient receptor (TC 1.A.4) family                        None  "
      ]
     },
     "execution_count": 8,
     "metadata": {},
     "output_type": "execute_result"
    }
   ],
   "source": [
    "info = UniProtProteinInfo(merge_multi_fam_strings=False)\n",
    "info.load_protein_info([\"Q923J1\"])[[\"organism\", \"subfamily\", \"family\", \"superfamily\"]]"
   ]
  },
  {
   "cell_type": "code",
   "execution_count": null,
   "metadata": {},
   "outputs": [],
   "source": []
  }
 ],
 "metadata": {
  "kernelspec": {
   "display_name": "Python 3 (ipykernel)",
   "language": "python",
   "name": "python3"
  },
  "language_info": {
   "codemirror_mode": {
    "name": "ipython",
    "version": 3
   },
   "file_extension": ".py",
   "mimetype": "text/x-python",
   "name": "python",
   "nbconvert_exporter": "python",
   "pygments_lexer": "ipython3",
   "version": "3.9.7"
  }
 },
 "nbformat": 4,
 "nbformat_minor": 4
}
