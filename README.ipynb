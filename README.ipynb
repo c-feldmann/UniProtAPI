{
 "cells": [
  {
   "cell_type": "markdown",
   "metadata": {},
   "source": [
    "# UniProtClient\n",
    "## IMPORTANT! Mapping is UNDER CONSTRUCTRION and not working\n",
    "Python classes in this package allow convenient access to [UniProt](https://www.uniprot.org/) for protein ID mapping and information retrieval."
   ]
  },
  {
   "cell_type": "markdown",
   "metadata": {},
   "source": [
    "## Installation in Conda\n",
    "If not already installed, install **pip** and **git**:  \n",
    "```\n",
    "conda install git\n",
    "conda install pip\n",
    "```\n",
    "Then install via pip:\n",
    "```\n",
    "pip install git+git://github.com/c-feldmann/UniProtClient\n",
    "```"
   ]
  },
  {
   "cell_type": "markdown",
   "metadata": {},
   "source": [
    "## Usage\n",
    "### Mapping\n",
    "Protein IDs differ from database to database. The class *UniProtMapper* can be utilized for mapping of protein IDs from one database to corresponding IDs of another database, specified by [letter codes](https://www.uniprot.org/help/api_idmapping).  "
   ]
  },
  {
   "cell_type": "code",
   "execution_count": 1,
   "metadata": {},
   "outputs": [],
   "source": [
    "from UniProtClient import UniProtMapper\n",
    "origin_database = 'P_GI'  # PubChem Gene ID\n",
    "target_database = 'ACC'  # UniProt Accession\n",
    "gi_2_acc_mappig = UniProtMapper(origin_database, target_database)"
   ]
  },
  {
   "cell_type": "markdown",
   "metadata": {},
   "source": [
    "The obtained object has a function called `map_protein_ids`, which takes a list of strings with protein IDs as input, returning a pandas DataFrame. The DataFrame has two columns: \"From\" and \"To\" referring to the origin and target ID, respectively."
   ]
  },
  {
   "cell_type": "code",
   "execution_count": 2,
   "metadata": {},
   "outputs": [
    {
     "data": {
      "text/plain": "  0%|          | 0/3 [00:00<?, ?it/s]",
      "application/vnd.jupyter.widget-view+json": {
       "version_major": 2,
       "version_minor": 0,
       "model_id": "bde9892d21eb4b548a4fa710be40e938"
      }
     },
     "metadata": {},
     "output_type": "display_data"
    },
    {
     "name": "stdout",
     "output_type": "stream",
     "text": [
      "https://rest.uniprot.org/id-mapping?from=P_GI&to=ACC&format=tsv&query=224586929+224586929+4758208\n",
      "<html>\r\n",
      "<head><title>404 Not Found</title></head>\r\n",
      "<body>\r\n",
      "<center><h1>404 Not Found</h1></center>\r\n",
      "<hr><center>nginx/1.21.6</center>\r\n",
      "</body>\r\n",
      "</html>\r\n",
      "\n"
     ]
    },
    {
     "ename": "KeyError",
     "evalue": "'From'",
     "output_type": "error",
     "traceback": [
      "\u001B[0;31m---------------------------------------------------------------------------\u001B[0m",
      "\u001B[0;31mKeyError\u001B[0m                                  Traceback (most recent call last)",
      "\u001B[0;32m~/anaconda3/envs/jupyterlab/lib/python3.9/site-packages/pandas/core/indexes/base.py\u001B[0m in \u001B[0;36mget_loc\u001B[0;34m(self, key, method, tolerance)\u001B[0m\n\u001B[1;32m   3620\u001B[0m             \u001B[0;32mtry\u001B[0m\u001B[0;34m:\u001B[0m\u001B[0;34m\u001B[0m\u001B[0;34m\u001B[0m\u001B[0m\n\u001B[0;32m-> 3621\u001B[0;31m                 \u001B[0;32mreturn\u001B[0m \u001B[0mself\u001B[0m\u001B[0;34m.\u001B[0m\u001B[0m_engine\u001B[0m\u001B[0;34m.\u001B[0m\u001B[0mget_loc\u001B[0m\u001B[0;34m(\u001B[0m\u001B[0mcasted_key\u001B[0m\u001B[0;34m)\u001B[0m\u001B[0;34m\u001B[0m\u001B[0;34m\u001B[0m\u001B[0m\n\u001B[0m\u001B[1;32m   3622\u001B[0m             \u001B[0;32mexcept\u001B[0m \u001B[0mKeyError\u001B[0m \u001B[0;32mas\u001B[0m \u001B[0merr\u001B[0m\u001B[0;34m:\u001B[0m\u001B[0;34m\u001B[0m\u001B[0;34m\u001B[0m\u001B[0m\n",
      "\u001B[0;32m~/anaconda3/envs/jupyterlab/lib/python3.9/site-packages/pandas/_libs/index.pyx\u001B[0m in \u001B[0;36mpandas._libs.index.IndexEngine.get_loc\u001B[0;34m()\u001B[0m\n",
      "\u001B[0;32m~/anaconda3/envs/jupyterlab/lib/python3.9/site-packages/pandas/_libs/index.pyx\u001B[0m in \u001B[0;36mpandas._libs.index.IndexEngine.get_loc\u001B[0;34m()\u001B[0m\n",
      "\u001B[0;32mpandas/_libs/hashtable_class_helper.pxi\u001B[0m in \u001B[0;36mpandas._libs.hashtable.PyObjectHashTable.get_item\u001B[0;34m()\u001B[0m\n",
      "\u001B[0;32mpandas/_libs/hashtable_class_helper.pxi\u001B[0m in \u001B[0;36mpandas._libs.hashtable.PyObjectHashTable.get_item\u001B[0;34m()\u001B[0m\n",
      "\u001B[0;31mKeyError\u001B[0m: 'From'",
      "\nThe above exception was the direct cause of the following exception:\n",
      "\u001B[0;31mKeyError\u001B[0m                                  Traceback (most recent call last)",
      "\u001B[0;32m/tmp/ipykernel_22881/1297334268.py\u001B[0m in \u001B[0;36m<module>\u001B[0;34m\u001B[0m\n\u001B[1;32m      1\u001B[0m \u001B[0mgi_numbers\u001B[0m \u001B[0;34m=\u001B[0m \u001B[0;34m[\u001B[0m\u001B[0;34m'224586929'\u001B[0m\u001B[0;34m,\u001B[0m \u001B[0;34m'224586929'\u001B[0m\u001B[0;34m,\u001B[0m \u001B[0;34m'4758208'\u001B[0m\u001B[0;34m]\u001B[0m \u001B[0;31m# IDs should be represented as a list of strings\u001B[0m\u001B[0;34m\u001B[0m\u001B[0;34m\u001B[0m\u001B[0m\n\u001B[1;32m      2\u001B[0m \u001B[0;31m# a pandas DataFrame is returned containing the columns \"From\" and \"To\"\u001B[0m\u001B[0;34m\u001B[0m\u001B[0;34m\u001B[0m\u001B[0m\n\u001B[0;32m----> 3\u001B[0;31m \u001B[0mmapping_df\u001B[0m \u001B[0;34m=\u001B[0m \u001B[0mgi_2_acc_mappig\u001B[0m\u001B[0;34m.\u001B[0m\u001B[0mmap_protein_ids\u001B[0m\u001B[0;34m(\u001B[0m\u001B[0mgi_numbers\u001B[0m\u001B[0;34m)\u001B[0m\u001B[0;34m\u001B[0m\u001B[0;34m\u001B[0m\u001B[0m\n\u001B[0m\u001B[1;32m      4\u001B[0m \u001B[0muniprot_accessions\u001B[0m \u001B[0;34m=\u001B[0m \u001B[0mmapping_df\u001B[0m\u001B[0;34m[\u001B[0m\u001B[0;34m'To'\u001B[0m\u001B[0;34m]\u001B[0m\u001B[0;34m.\u001B[0m\u001B[0mtolist\u001B[0m\u001B[0;34m(\u001B[0m\u001B[0;34m)\u001B[0m\u001B[0;34m\u001B[0m\u001B[0;34m\u001B[0m\u001B[0m\n",
      "\u001B[0;32m/media/bob/Backup 1/lsi/general_projects/UniProtClient/UniProtClient/ClientClasses.py\u001B[0m in \u001B[0;36mmap_protein_ids\u001B[0;34m(self, protein_list, chunk_size)\u001B[0m\n\u001B[1;32m     83\u001B[0m             \u001B[0mpbar\u001B[0m\u001B[0;34m.\u001B[0m\u001B[0mclose\u001B[0m\u001B[0;34m(\u001B[0m\u001B[0;34m)\u001B[0m\u001B[0;34m\u001B[0m\u001B[0;34m\u001B[0m\u001B[0m\n\u001B[1;32m     84\u001B[0m         \u001B[0mvalid_mappings\u001B[0m \u001B[0;34m=\u001B[0m \u001B[0mpd\u001B[0m\u001B[0;34m.\u001B[0m\u001B[0mDataFrame\u001B[0m\u001B[0;34m(\u001B[0m\u001B[0mfinal_dict_list\u001B[0m\u001B[0;34m)\u001B[0m\u001B[0;34m\u001B[0m\u001B[0;34m\u001B[0m\u001B[0m\n\u001B[0;32m---> 85\u001B[0;31m         \u001B[0minvalid_ids\u001B[0m \u001B[0;34m=\u001B[0m \u001B[0mset\u001B[0m\u001B[0;34m(\u001B[0m\u001B[0mprotein_list\u001B[0m\u001B[0;34m)\u001B[0m \u001B[0;34m-\u001B[0m \u001B[0mset\u001B[0m\u001B[0;34m(\u001B[0m\u001B[0mvalid_mappings\u001B[0m\u001B[0;34m[\u001B[0m\u001B[0;34m\"From\"\u001B[0m\u001B[0;34m]\u001B[0m\u001B[0;34m.\u001B[0m\u001B[0munique\u001B[0m\u001B[0;34m(\u001B[0m\u001B[0;34m)\u001B[0m\u001B[0;34m)\u001B[0m\u001B[0;34m\u001B[0m\u001B[0;34m\u001B[0m\u001B[0m\n\u001B[0m\u001B[1;32m     86\u001B[0m         \u001B[0minvalid_mapping\u001B[0m \u001B[0;34m=\u001B[0m \u001B[0mpd\u001B[0m\u001B[0;34m.\u001B[0m\u001B[0mDataFrame\u001B[0m\u001B[0;34m(\u001B[0m\u001B[0;34m)\u001B[0m\u001B[0;34m\u001B[0m\u001B[0;34m\u001B[0m\u001B[0m\n\u001B[1;32m     87\u001B[0m         \u001B[0minvalid_mapping\u001B[0m\u001B[0;34m[\u001B[0m\u001B[0;34m\"From\"\u001B[0m\u001B[0;34m]\u001B[0m \u001B[0;34m=\u001B[0m \u001B[0msorted\u001B[0m\u001B[0;34m(\u001B[0m\u001B[0minvalid_ids\u001B[0m\u001B[0;34m)\u001B[0m\u001B[0;34m\u001B[0m\u001B[0;34m\u001B[0m\u001B[0m\n",
      "\u001B[0;32m~/anaconda3/envs/jupyterlab/lib/python3.9/site-packages/pandas/core/frame.py\u001B[0m in \u001B[0;36m__getitem__\u001B[0;34m(self, key)\u001B[0m\n\u001B[1;32m   3503\u001B[0m             \u001B[0;32mif\u001B[0m \u001B[0mself\u001B[0m\u001B[0;34m.\u001B[0m\u001B[0mcolumns\u001B[0m\u001B[0;34m.\u001B[0m\u001B[0mnlevels\u001B[0m \u001B[0;34m>\u001B[0m \u001B[0;36m1\u001B[0m\u001B[0;34m:\u001B[0m\u001B[0;34m\u001B[0m\u001B[0;34m\u001B[0m\u001B[0m\n\u001B[1;32m   3504\u001B[0m                 \u001B[0;32mreturn\u001B[0m \u001B[0mself\u001B[0m\u001B[0;34m.\u001B[0m\u001B[0m_getitem_multilevel\u001B[0m\u001B[0;34m(\u001B[0m\u001B[0mkey\u001B[0m\u001B[0;34m)\u001B[0m\u001B[0;34m\u001B[0m\u001B[0;34m\u001B[0m\u001B[0m\n\u001B[0;32m-> 3505\u001B[0;31m             \u001B[0mindexer\u001B[0m \u001B[0;34m=\u001B[0m \u001B[0mself\u001B[0m\u001B[0;34m.\u001B[0m\u001B[0mcolumns\u001B[0m\u001B[0;34m.\u001B[0m\u001B[0mget_loc\u001B[0m\u001B[0;34m(\u001B[0m\u001B[0mkey\u001B[0m\u001B[0;34m)\u001B[0m\u001B[0;34m\u001B[0m\u001B[0;34m\u001B[0m\u001B[0m\n\u001B[0m\u001B[1;32m   3506\u001B[0m             \u001B[0;32mif\u001B[0m \u001B[0mis_integer\u001B[0m\u001B[0;34m(\u001B[0m\u001B[0mindexer\u001B[0m\u001B[0;34m)\u001B[0m\u001B[0;34m:\u001B[0m\u001B[0;34m\u001B[0m\u001B[0;34m\u001B[0m\u001B[0m\n\u001B[1;32m   3507\u001B[0m                 \u001B[0mindexer\u001B[0m \u001B[0;34m=\u001B[0m \u001B[0;34m[\u001B[0m\u001B[0mindexer\u001B[0m\u001B[0;34m]\u001B[0m\u001B[0;34m\u001B[0m\u001B[0;34m\u001B[0m\u001B[0m\n",
      "\u001B[0;32m~/anaconda3/envs/jupyterlab/lib/python3.9/site-packages/pandas/core/indexes/base.py\u001B[0m in \u001B[0;36mget_loc\u001B[0;34m(self, key, method, tolerance)\u001B[0m\n\u001B[1;32m   3621\u001B[0m                 \u001B[0;32mreturn\u001B[0m \u001B[0mself\u001B[0m\u001B[0;34m.\u001B[0m\u001B[0m_engine\u001B[0m\u001B[0;34m.\u001B[0m\u001B[0mget_loc\u001B[0m\u001B[0;34m(\u001B[0m\u001B[0mcasted_key\u001B[0m\u001B[0;34m)\u001B[0m\u001B[0;34m\u001B[0m\u001B[0;34m\u001B[0m\u001B[0m\n\u001B[1;32m   3622\u001B[0m             \u001B[0;32mexcept\u001B[0m \u001B[0mKeyError\u001B[0m \u001B[0;32mas\u001B[0m \u001B[0merr\u001B[0m\u001B[0;34m:\u001B[0m\u001B[0;34m\u001B[0m\u001B[0;34m\u001B[0m\u001B[0m\n\u001B[0;32m-> 3623\u001B[0;31m                 \u001B[0;32mraise\u001B[0m \u001B[0mKeyError\u001B[0m\u001B[0;34m(\u001B[0m\u001B[0mkey\u001B[0m\u001B[0;34m)\u001B[0m \u001B[0;32mfrom\u001B[0m \u001B[0merr\u001B[0m\u001B[0;34m\u001B[0m\u001B[0;34m\u001B[0m\u001B[0m\n\u001B[0m\u001B[1;32m   3624\u001B[0m             \u001B[0;32mexcept\u001B[0m \u001B[0mTypeError\u001B[0m\u001B[0;34m:\u001B[0m\u001B[0;34m\u001B[0m\u001B[0;34m\u001B[0m\u001B[0m\n\u001B[1;32m   3625\u001B[0m                 \u001B[0;31m# If we have a listlike key, _check_indexing_error will raise\u001B[0m\u001B[0;34m\u001B[0m\u001B[0;34m\u001B[0m\u001B[0m\n",
      "\u001B[0;31mKeyError\u001B[0m: 'From'"
     ]
    }
   ],
   "source": [
    "gi_numbers = ['224586929', '224586929', '4758208'] # IDs should be represented as a list of strings\n",
    "# a pandas DataFrame is returned containing the columns \"From\" and \"To\"\n",
    "mapping_df = gi_2_acc_mappig.map_protein_ids(gi_numbers)\n",
    "uniprot_accessions = mapping_df['To'].tolist()"
   ]
  },
  {
   "cell_type": "code",
   "execution_count": null,
   "outputs": [],
   "source": [
    "import requests"
   ],
   "metadata": {
    "collapsed": false
   }
  },
  {
   "cell_type": "code",
   "execution_count": 3,
   "metadata": {},
   "outputs": [
    {
     "data": {
      "text/html": [
       "<div>\n",
       "<style scoped>\n",
       "    .dataframe tbody tr th:only-of-type {\n",
       "        vertical-align: middle;\n",
       "    }\n",
       "\n",
       "    .dataframe tbody tr th {\n",
       "        vertical-align: top;\n",
       "    }\n",
       "\n",
       "    .dataframe thead th {\n",
       "        text-align: right;\n",
       "    }\n",
       "</style>\n",
       "<table border=\"1\" class=\"dataframe\">\n",
       "  <thead>\n",
       "    <tr style=\"text-align: right;\">\n",
       "      <th></th>\n",
       "      <th>From</th>\n",
       "      <th>To</th>\n",
       "    </tr>\n",
       "  </thead>\n",
       "  <tbody>\n",
       "    <tr>\n",
       "      <th>0</th>\n",
       "      <td>224586929</td>\n",
       "      <td>Q9Y2R2</td>\n",
       "    </tr>\n",
       "    <tr>\n",
       "      <th>1</th>\n",
       "      <td>224586929</td>\n",
       "      <td>B4DZW8</td>\n",
       "    </tr>\n",
       "    <tr>\n",
       "      <th>2</th>\n",
       "      <td>4758208</td>\n",
       "      <td>P51452</td>\n",
       "    </tr>\n",
       "  </tbody>\n",
       "</table>\n",
       "</div>"
      ],
      "text/plain": [
       "        From      To\n",
       "0  224586929  Q9Y2R2\n",
       "1  224586929  B4DZW8\n",
       "2    4758208  P51452"
      ]
     },
     "execution_count": 3,
     "metadata": {},
     "output_type": "execute_result"
    }
   ],
   "source": [
    "mapping_df"
   ]
  },
  {
   "cell_type": "markdown",
   "metadata": {},
   "source": [
    "### Protein information\n",
    "UniProt provides a varity of protein specific information, such as protein family, organism, function, EC-number, and many more.\n",
    "The class *UniProtProteinInfo* is initialized with [column identifier](https://www.uniprot.org/help/uniprotkb%5Fcolumn%5Fnames) specifing the requested information. Spaces in column names should be substituted by underscores.  \n",
    "If no columns are specified the default is used:\n",
    "\n",
    "| Column-ID |\n",
    "|:------:|\n",
    "| id |\n",
    "| entry_name |\n",
    "| protein_names |\n",
    "| families |\n",
    "| organism |\n",
    "| ec |\n",
    "| genes(PREFERRED) |\n",
    "| go(molecular_function) |\n",
    "\n",
    "The column \"protein_names\" contains all protein names, where secondary names are given in brackets or parenthesis. If this column is requested, the primary name is extracted and added as a new column, called \"primary_name\"."
   ]
  },
  {
   "cell_type": "code",
   "execution_count": 1,
   "metadata": {},
   "outputs": [],
   "source": [
    "from UniProtClient import UniProtProteinInfo\n",
    "info = UniProtProteinInfo()"
   ]
  },
  {
   "cell_type": "code",
   "execution_count": 2,
   "metadata": {},
   "outputs": [
    {
     "data": {
      "text/plain": "  0%|          | 0/3 [00:00<?, ?it/s]",
      "application/vnd.jupyter.widget-view+json": {
       "version_major": 2,
       "version_minor": 0,
       "model_id": "e9183dccc7854cc4a6dd0e812b9384d2"
      }
     },
     "metadata": {},
     "output_type": "display_data"
    },
    {
     "data": {
      "text/plain": "          entry_name                                      protein_names  \\\nentry                                                                     \nP51452    DUS3_HUMAN  Dual specificity protein phosphatase 3 (EC 3.1...   \nQ9Y2R2   PTN22_HUMAN  Tyrosine-protein phosphatase non-receptor type...   \nB4DZW8  B4DZW8_HUMAN  cDNA FLJ55436, highly similar to Tyrosine-prot...   \n\n                                         protein_families  \\\nentry                                                       \nP51452  Protein-tyrosine phosphatase family, Non-recep...   \nQ9Y2R2  Protein-tyrosine phosphatase family, Non-recep...   \nB4DZW8                                                      \n\n                    organism organism(id)           ec_number  \\\nentry                                                           \nP51452  Homo sapiens (Human)         9606  3.1.3.16; 3.1.3.48   \nQ9Y2R2  Homo sapiens (Human)         9606            3.1.3.48   \nB4DZW8  Homo sapiens (Human)         9606                       \n\n       gene_names(primary)                  gene_ontology(molecular_function)  \\\nentry                                                                           \nP51452               DUSP3  cytoskeletal protein binding [GO:0008092]; MAP...   \nQ9Y2R2              PTPN22  kinase binding [GO:0019900]; non-membrane span...   \nB4DZW8                      protein tyrosine phosphatase activity [GO:0004...   \n\n                                             primary_name  \\\nentry                                                       \nP51452             Dual specificity protein phosphatase 3   \nQ9Y2R2  Tyrosine-protein phosphatase non-receptor type 22   \nB4DZW8  cDNA FLJ55436, highly similar to Tyrosine-prot...   \n\n                                            subfamily  \\\nentry                                                   \nP51452  Non-receptor class dual specificity subfamily   \nQ9Y2R2                 Non-receptor class 4 subfamily   \nB4DZW8                                           None   \n\n                                     family superfamily  \nentry                                                    \nP51452  Protein-tyrosine phosphatase family        None  \nQ9Y2R2  Protein-tyrosine phosphatase family        None  \nB4DZW8                                 None        None  ",
      "text/html": "<div>\n<style scoped>\n    .dataframe tbody tr th:only-of-type {\n        vertical-align: middle;\n    }\n\n    .dataframe tbody tr th {\n        vertical-align: top;\n    }\n\n    .dataframe thead th {\n        text-align: right;\n    }\n</style>\n<table border=\"1\" class=\"dataframe\">\n  <thead>\n    <tr style=\"text-align: right;\">\n      <th></th>\n      <th>entry_name</th>\n      <th>protein_names</th>\n      <th>protein_families</th>\n      <th>organism</th>\n      <th>organism(id)</th>\n      <th>ec_number</th>\n      <th>gene_names(primary)</th>\n      <th>gene_ontology(molecular_function)</th>\n      <th>primary_name</th>\n      <th>subfamily</th>\n      <th>family</th>\n      <th>superfamily</th>\n    </tr>\n    <tr>\n      <th>entry</th>\n      <th></th>\n      <th></th>\n      <th></th>\n      <th></th>\n      <th></th>\n      <th></th>\n      <th></th>\n      <th></th>\n      <th></th>\n      <th></th>\n      <th></th>\n      <th></th>\n    </tr>\n  </thead>\n  <tbody>\n    <tr>\n      <th>P51452</th>\n      <td>DUS3_HUMAN</td>\n      <td>Dual specificity protein phosphatase 3 (EC 3.1...</td>\n      <td>Protein-tyrosine phosphatase family, Non-recep...</td>\n      <td>Homo sapiens (Human)</td>\n      <td>9606</td>\n      <td>3.1.3.16; 3.1.3.48</td>\n      <td>DUSP3</td>\n      <td>cytoskeletal protein binding [GO:0008092]; MAP...</td>\n      <td>Dual specificity protein phosphatase 3</td>\n      <td>Non-receptor class dual specificity subfamily</td>\n      <td>Protein-tyrosine phosphatase family</td>\n      <td>None</td>\n    </tr>\n    <tr>\n      <th>Q9Y2R2</th>\n      <td>PTN22_HUMAN</td>\n      <td>Tyrosine-protein phosphatase non-receptor type...</td>\n      <td>Protein-tyrosine phosphatase family, Non-recep...</td>\n      <td>Homo sapiens (Human)</td>\n      <td>9606</td>\n      <td>3.1.3.48</td>\n      <td>PTPN22</td>\n      <td>kinase binding [GO:0019900]; non-membrane span...</td>\n      <td>Tyrosine-protein phosphatase non-receptor type 22</td>\n      <td>Non-receptor class 4 subfamily</td>\n      <td>Protein-tyrosine phosphatase family</td>\n      <td>None</td>\n    </tr>\n    <tr>\n      <th>B4DZW8</th>\n      <td>B4DZW8_HUMAN</td>\n      <td>cDNA FLJ55436, highly similar to Tyrosine-prot...</td>\n      <td></td>\n      <td>Homo sapiens (Human)</td>\n      <td>9606</td>\n      <td></td>\n      <td></td>\n      <td>protein tyrosine phosphatase activity [GO:0004...</td>\n      <td>cDNA FLJ55436, highly similar to Tyrosine-prot...</td>\n      <td>None</td>\n      <td>None</td>\n      <td>None</td>\n    </tr>\n  </tbody>\n</table>\n</div>"
     },
     "execution_count": 2,
     "metadata": {},
     "output_type": "execute_result"
    }
   ],
   "source": [
    "info.load_protein_info([\"B4DZW8\", \"Q9Y2R2\", \"P51452\"])"
   ]
  },
  {
   "cell_type": "markdown",
   "metadata": {
    "pycharm": {
     "name": "#%% md\n"
    }
   },
   "source": [
    "#### Protein Families\n",
    "If downloaded, the string 'protein_families' is parsed automatically. It is split into the categories subfamily, family\n",
    "and superfamily.\n",
    "Some proteins belong to multiple families. The default behaviour is to extract the individual categories and merge them\n",
    "into a `; ` seperated string."
   ]
  },
  {
   "cell_type": "code",
   "execution_count": null,
   "outputs": [],
   "source": [],
   "metadata": {
    "collapsed": false
   }
  },
  {
   "cell_type": "code",
   "execution_count": 3,
   "metadata": {},
   "outputs": [],
   "source": [
    "# Extending column with. Not important for extraction.\n",
    "import pandas as pd\n",
    "pd.set_option('max_colwidth', 400)"
   ]
  },
  {
   "cell_type": "code",
   "execution_count": 4,
   "metadata": {
    "collapsed": false,
    "jupyter": {
     "outputs_hidden": false
    },
    "pycharm": {
     "name": "#%%\n"
    }
   },
   "outputs": [
    {
     "data": {
      "text/plain": "  0%|          | 0/1 [00:00<?, ?it/s]",
      "application/vnd.jupyter.widget-view+json": {
       "version_major": 2,
       "version_minor": 0,
       "model_id": "960ec354f42240d782c7c3293924cafc"
      }
     },
     "metadata": {},
     "output_type": "display_data"
    },
    {
     "name": "stdout",
     "output_type": "stream",
     "text": [
      "https://rest.uniprot.org/uniprotkb/search?query=accession:Q923J1&format=tsv&fields=accession,id,protein_name,protein_families,organism_name,organism_id,ec,gene_primary,go_f\n"
     ]
    },
    {
     "data": {
      "text/plain": "                           organism subfamily family superfamily\nentry                                                           \n(Q923J1, nan)  Mus musculus (Mouse)       NaN    NaN         NaN",
      "text/html": "<div>\n<style scoped>\n    .dataframe tbody tr th:only-of-type {\n        vertical-align: middle;\n    }\n\n    .dataframe tbody tr th {\n        vertical-align: top;\n    }\n\n    .dataframe thead th {\n        text-align: right;\n    }\n</style>\n<table border=\"1\" class=\"dataframe\">\n  <thead>\n    <tr style=\"text-align: right;\">\n      <th></th>\n      <th>organism</th>\n      <th>subfamily</th>\n      <th>family</th>\n      <th>superfamily</th>\n    </tr>\n    <tr>\n      <th>entry</th>\n      <th></th>\n      <th></th>\n      <th></th>\n      <th></th>\n    </tr>\n  </thead>\n  <tbody>\n    <tr>\n      <th>(Q923J1, nan)</th>\n      <td>Mus musculus (Mouse)</td>\n      <td>NaN</td>\n      <td>NaN</td>\n      <td>NaN</td>\n    </tr>\n  </tbody>\n</table>\n</div>"
     },
     "execution_count": 4,
     "metadata": {},
     "output_type": "execute_result"
    }
   ],
   "source": [
    "info = UniProtProteinInfo(merge_multi_fam_associations=\"string\")  # Default behaviour\n",
    "info.load_protein_info([\"Q923J1\"])[[\"organism\", \"subfamily\", \"family\", \"superfamily\"]]"
   ]
  },
  {
   "cell_type": "markdown",
   "metadata": {},
   "source": [
    "Setting `merge_multi_fam_associations` to `'list'` will arrange each family association in a list. To keep types consitent this applies to protiens with only one family as well."
   ]
  },
  {
   "cell_type": "code",
   "execution_count": 8,
   "metadata": {},
   "outputs": [
    {
     "data": {
      "application/vnd.jupyter.widget-view+json": {
       "model_id": "b60a98860b6c4fb59d718e1e53b818f6",
       "version_major": 2,
       "version_minor": 0
      },
      "text/plain": [
       "HBox(children=(HTML(value=''), FloatProgress(value=0.0, max=2.0), HTML(value='')))"
      ]
     },
     "metadata": {},
     "output_type": "display_data"
    },
    {
     "name": "stdout",
     "output_type": "stream",
     "text": [
      "\n"
     ]
    },
    {
     "data": {
      "text/html": [
       "<div>\n",
       "<style scoped>\n",
       "    .dataframe tbody tr th:only-of-type {\n",
       "        vertical-align: middle;\n",
       "    }\n",
       "\n",
       "    .dataframe tbody tr th {\n",
       "        vertical-align: top;\n",
       "    }\n",
       "\n",
       "    .dataframe thead th {\n",
       "        text-align: right;\n",
       "    }\n",
       "</style>\n",
       "<table border=\"1\" class=\"dataframe\">\n",
       "  <thead>\n",
       "    <tr style=\"text-align: right;\">\n",
       "      <th></th>\n",
       "      <th>organism</th>\n",
       "      <th>subfamily</th>\n",
       "      <th>family</th>\n",
       "      <th>superfamily</th>\n",
       "    </tr>\n",
       "    <tr>\n",
       "      <th>entry</th>\n",
       "      <th></th>\n",
       "      <th></th>\n",
       "      <th></th>\n",
       "      <th></th>\n",
       "    </tr>\n",
       "  </thead>\n",
       "  <tbody>\n",
       "    <tr>\n",
       "      <th>Q923J1</th>\n",
       "      <td>Mus musculus (Mouse)</td>\n",
       "      <td>[ALPK subfamily, LTrpC subfamily]</td>\n",
       "      <td>[Alpha-type protein kinase family, Transient receptor (TC 1.A.4) family]</td>\n",
       "      <td>[Protein kinase superfamily, None]</td>\n",
       "    </tr>\n",
       "    <tr>\n",
       "      <th>Q9Y2R2</th>\n",
       "      <td>Homo sapiens (Human)</td>\n",
       "      <td>[Non-receptor class 4 subfamily]</td>\n",
       "      <td>[Protein-tyrosine phosphatase family]</td>\n",
       "      <td>[None]</td>\n",
       "    </tr>\n",
       "  </tbody>\n",
       "</table>\n",
       "</div>"
      ],
      "text/plain": [
       "                    organism                          subfamily  \\\n",
       "entry                                                             \n",
       "Q923J1  Mus musculus (Mouse)  [ALPK subfamily, LTrpC subfamily]   \n",
       "Q9Y2R2  Homo sapiens (Human)   [Non-receptor class 4 subfamily]   \n",
       "\n",
       "                                                                          family  \\\n",
       "entry                                                                              \n",
       "Q923J1  [Alpha-type protein kinase family, Transient receptor (TC 1.A.4) family]   \n",
       "Q9Y2R2                                     [Protein-tyrosine phosphatase family]   \n",
       "\n",
       "                               superfamily  \n",
       "entry                                       \n",
       "Q923J1  [Protein kinase superfamily, None]  \n",
       "Q9Y2R2                              [None]  "
      ]
     },
     "execution_count": 8,
     "metadata": {},
     "output_type": "execute_result"
    }
   ],
   "source": [
    "info = UniProtProteinInfo(merge_multi_fam_associations=\"list\")  # Default behaviour\n",
    "info.load_protein_info([\"Q923J1\", \"Q9Y2R2\"])[[\"organism\", \"subfamily\", \"family\", \"superfamily\"]]"
   ]
  },
  {
   "cell_type": "markdown",
   "metadata": {},
   "source": [
    " Setting `merge_multi_fam_associations` to `None` will create for each family association an\n",
    "individual row where remaining protein information are identical."
   ]
  },
  {
   "cell_type": "code",
   "execution_count": 9,
   "metadata": {
    "collapsed": false,
    "jupyter": {
     "outputs_hidden": false
    },
    "pycharm": {
     "name": "#%%\n"
    }
   },
   "outputs": [
    {
     "data": {
      "application/vnd.jupyter.widget-view+json": {
       "model_id": "b1d86659599e4f4697ef65f4d776f075",
       "version_major": 2,
       "version_minor": 0
      },
      "text/plain": [
       "HBox(children=(HTML(value=''), FloatProgress(value=0.0, max=1.0), HTML(value='')))"
      ]
     },
     "metadata": {},
     "output_type": "display_data"
    },
    {
     "name": "stdout",
     "output_type": "stream",
     "text": [
      "\n"
     ]
    },
    {
     "data": {
      "text/html": [
       "<div>\n",
       "<style scoped>\n",
       "    .dataframe tbody tr th:only-of-type {\n",
       "        vertical-align: middle;\n",
       "    }\n",
       "\n",
       "    .dataframe tbody tr th {\n",
       "        vertical-align: top;\n",
       "    }\n",
       "\n",
       "    .dataframe thead th {\n",
       "        text-align: right;\n",
       "    }\n",
       "</style>\n",
       "<table border=\"1\" class=\"dataframe\">\n",
       "  <thead>\n",
       "    <tr style=\"text-align: right;\">\n",
       "      <th></th>\n",
       "      <th>organism</th>\n",
       "      <th>subfamily</th>\n",
       "      <th>family</th>\n",
       "      <th>superfamily</th>\n",
       "    </tr>\n",
       "    <tr>\n",
       "      <th>entry</th>\n",
       "      <th></th>\n",
       "      <th></th>\n",
       "      <th></th>\n",
       "      <th></th>\n",
       "    </tr>\n",
       "  </thead>\n",
       "  <tbody>\n",
       "    <tr>\n",
       "      <th>Q923J1</th>\n",
       "      <td>Mus musculus (Mouse)</td>\n",
       "      <td>ALPK subfamily</td>\n",
       "      <td>Alpha-type protein kinase family</td>\n",
       "      <td>Protein kinase superfamily</td>\n",
       "    </tr>\n",
       "    <tr>\n",
       "      <th>Q923J1</th>\n",
       "      <td>Mus musculus (Mouse)</td>\n",
       "      <td>LTrpC subfamily</td>\n",
       "      <td>Transient receptor (TC 1.A.4) family</td>\n",
       "      <td>None</td>\n",
       "    </tr>\n",
       "  </tbody>\n",
       "</table>\n",
       "</div>"
      ],
      "text/plain": [
       "                    organism        subfamily  \\\n",
       "entry                                           \n",
       "Q923J1  Mus musculus (Mouse)   ALPK subfamily   \n",
       "Q923J1  Mus musculus (Mouse)  LTrpC subfamily   \n",
       "\n",
       "                                      family                 superfamily  \n",
       "entry                                                                     \n",
       "Q923J1      Alpha-type protein kinase family  Protein kinase superfamily  \n",
       "Q923J1  Transient receptor (TC 1.A.4) family                        None  "
      ]
     },
     "execution_count": 9,
     "metadata": {},
     "output_type": "execute_result"
    }
   ],
   "source": [
    "info = UniProtProteinInfo(merge_multi_fam_associations=None)\n",
    "info.load_protein_info([\"Q923J1\"])[[\"organism\", \"subfamily\", \"family\", \"superfamily\"]]"
   ]
  }
 ],
 "metadata": {
  "kernelspec": {
   "display_name": "Python 3 (ipykernel)",
   "language": "python",
   "name": "python3"
  },
  "language_info": {
   "codemirror_mode": {
    "name": "ipython",
    "version": 3
   },
   "file_extension": ".py",
   "mimetype": "text/x-python",
   "name": "python",
   "nbconvert_exporter": "python",
   "pygments_lexer": "ipython3",
   "version": "3.9.7"
  }
 },
 "nbformat": 4,
 "nbformat_minor": 4
}
